{
  "nbformat": 4,
  "nbformat_minor": 0,
  "metadata": {
    "colab": {
      "name": "CS607_assgn2.ipynb",
      "provenance": [],
      "collapsed_sections": []
    },
    "kernelspec": {
      "name": "python3",
      "display_name": "Python 3"
    },
    "accelerator": "GPU"
  },
  "cells": [
    {
      "cell_type": "code",
      "metadata": {
        "id": "boMrcYlecvCy"
      },
      "source": [
        "# Import library to upload files\n",
        "from google.colab import files\n",
        "\n",
        "# Remove old files with same name\n",
        "!rm sgmev.cu\n",
        "#!rm ztmpv.cu #Uncomment for ztmpv\n",
        "\n",
        "# Upload the code file\n",
        "uploaded = files.upload()\n",
        "\n",
        "# Compile the uploaded file\n",
        "!nvcc sgmev.cu  -lcublas -lcurand -o output\n",
        "#!nvcc ztmpv.cu  -lcublas -lcurand -o output #Uncomment for ztmpv\n",
        "\n",
        "# Run the executable file\n",
        "!./output"
      ],
      "execution_count": null,
      "outputs": []
    }
  ]
}